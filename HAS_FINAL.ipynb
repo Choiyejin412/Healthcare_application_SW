{
  "nbformat": 4,
  "nbformat_minor": 0,
  "metadata": {
    "colab": {
      "provenance": []
    },
    "kernelspec": {
      "name": "python3",
      "display_name": "Python 3"
    },
    "language_info": {
      "name": "python"
    }
  },
  "cells": [
    {
      "cell_type": "code",
      "execution_count": null,
      "metadata": {
        "colab": {
          "base_uri": "https://localhost:8080/"
        },
        "id": "pfy05pUJEr2d",
        "outputId": "546ce855-6acb-4583-94cb-1d166db8d6f1"
      },
      "outputs": [
        {
          "output_type": "stream",
          "name": "stdout",
          "text": [
            "Drive already mounted at /content/drive; to attempt to forcibly remount, call drive.mount(\"/content/drive\", force_remount=True).\n",
            "+----+------------+------------------+------------+--------+-----------------------+-----------------+-----------------+------------+------------+------------+------------+------------+--------------+--------------+----------------------+----------------+--------------------+-----------------+-----------------+----------+----------+------------------+-------------------+-------------------+--------------+------------+------------+--------------------+------------------+--------+\n",
            "|    |   기준년도 |   가입자일련번호 |   시도코드 |   성별 |   연령대코드(5세단위) |   신장(5cm단위) |   체중(5kg단위) |   허리둘레 |   시력(좌) |   시력(우) |   청력(좌) |   청력(우) |   수축기혈압 |   이완기혈압 |   식전혈당(공복혈당) |   총콜레스테롤 |   트리글리세라이드 |   HDL콜레스테롤 |   LDL콜레스테롤 |   혈색소 |   요단백 |   혈청크레아티닌 |   혈청지오티(AST) |   혈청지피티(ALT) |   감마지티피 |   흡연상태 |   음주여부 |   구강검진수검여부 |   치아우식증유무 |   치석 |\n",
            "|----+------------+------------------+------------+--------+-----------------------+-----------------+-----------------+------------+------------+------------+------------+------------+--------------+--------------+----------------------+----------------+--------------------+-----------------+-----------------+----------+----------+------------------+-------------------+-------------------+--------------+------------+------------+--------------------+------------------+--------|\n",
            "|  0 |       2022 | 702763           |         41 |      2 |                    14 |             160 |              75 |       89   |          1 |          1 |          1 |          1 |          127 |           73 |                   84 |            nan |                nan |             nan |             nan |     14.8 |        1 |              0.8 |                25 |                20 |           15 |          1 |          0 |                  0 |              nan |    nan |\n",
            "|  1 |       2022 | 765435           |         41 |      2 |                     9 |             150 |              45 |       68   |          1 |          1 |          1 |          1 |          127 |           75 |                   85 |            nan |                nan |             nan |             nan |     13.1 |        1 |              0.8 |                19 |                10 |            7 |          1 |          1 |                  0 |              nan |    nan |\n",
            "|  2 |       2022 | 343621           |         41 |      2 |                    13 |             150 |              60 |       78.8 |          1 |          1 |          1 |          1 |          135 |           81 |                  105 |            nan |                nan |             nan |             nan |     13   |        1 |              0.8 |                17 |                15 |           15 |          1 |          1 |                  0 |              nan |    nan |\n",
            "|  3 |       2022 |      3.39353e+06 |         41 |      2 |                     6 |             160 |              50 |       69   |          1 |          1 |          1 |          1 |          109 |           70 |                   81 |            nan |                nan |             nan |             nan |     13.4 |        1 |              0.8 |                25 |                16 |           13 |          1 |          1 |                  0 |              nan |    nan |\n",
            "|  4 |       2022 |      1.71695e+06 |         41 |      2 |                     7 |             160 |              55 |       75   |          1 |          1 |          1 |          1 |          110 |           67 |                   79 |            nan |                nan |             nan |             nan |     14.7 |        1 |              0.8 |                22 |                22 |           15 |          1 |          1 |                  0 |              nan |    nan |\n",
            "+----+------------+------------------+------------+--------+-----------------------+-----------------+-----------------+------------+------------+------------+------------+------------+--------------+--------------+----------------------+----------------+--------------------+-----------------+-----------------+----------+----------+------------------+-------------------+-------------------+--------------+------------+------------+--------------------+------------------+--------+\n",
            "Columns in the dataset:\n",
            "Index(['기준년도', '가입자일련번호', '시도코드', '성별', '연령대코드(5세단위)', '신장(5cm단위)',\n",
            "       '체중(5kg단위)', '허리둘레', '시력(좌)', '시력(우)', '청력(좌)', '청력(우)', '수축기혈압',\n",
            "       '이완기혈압', '식전혈당(공복혈당)', '총콜레스테롤', '트리글리세라이드', 'HDL콜레스테롤', 'LDL콜레스테롤',\n",
            "       '혈색소', '요단백', '혈청크레아티닌', '혈청지오티(AST)', '혈청지피티(ALT)', '감마지티피', '흡연상태',\n",
            "       '음주여부', '구강검진수검여부', '치아우식증유무', '치석'],\n",
            "      dtype='object')\n"
          ]
        }
      ],
      "source": [
        "import pandas as pd\n",
        "import numpy as np\n",
        "import matplotlib.pyplot as plt\n",
        "from sklearn.model_selection import train_test_split\n",
        "from sklearn.ensemble import RandomForestRegressor\n",
        "from sklearn.metrics import mean_squared_error, r2_score\n",
        "import seaborn as sns\n",
        "from google.colab import drive\n",
        "from tabulate import tabulate\n",
        "\n",
        "# Google Drive 마운트\n",
        "drive.mount('/content/drive')\n",
        "\n",
        "# 데이터 불러오기\n",
        "file_path = '/content/drive/MyDrive/HAS_FINAL/health_data.CSV'\n",
        "data = pd.read_csv(file_path, encoding='cp949')  # 한국어 인코딩 지정\n",
        "\n",
        "# 데이터셋의 첫 몇 행을 표 형태로 출력하여 열 이름 확인\n",
        "print(tabulate(data.head(), headers='keys', tablefmt='psql'))\n",
        "\n",
        "# 열 이름 출력\n",
        "print(\"Columns in the dataset:\")\n",
        "print(data.columns)\n",
        "\n",
        "# 목표 열 이름 설정 (예: '수축기혈압')\n",
        "target_column = '수축기혈압'  # 실제 목표 열 이름으로 변경\n",
        "\n",
        "# 열 이름 확인\n",
        "if target_column not in data.columns:\n",
        "    raise ValueError(f\"Target column '{target_column}' not found in data columns\")\n",
        "\n",
        "# 데이터 전처리\n",
        "# 결측값 처리\n",
        "data.fillna(data.mean(), inplace=True)\n",
        "\n",
        "# 범주형 변수를 수치형으로 변환\n",
        "data = pd.get_dummies(data)\n",
        "\n",
        "# 특징과 타겟 변수로 데이터 분할\n",
        "X = data.drop(target_column, axis=1)\n",
        "y = data[target_column]\n",
        "\n",
        "# 학습 및 테스트 데이터로 분할\n",
        "X_train, X_test, y_train, y_test = train_test_split(X, y, test_size=0.2, random_state=42)\n",
        "\n",
        "# 모델 학습\n",
        "model = RandomForestRegressor(n_estimators=100, random_state=42)\n",
        "model.fit(X_train, y_train)\n",
        "\n",
        "# 예측\n",
        "y_pred = model.predict(X_test)\n",
        "\n",
        "# 평가\n",
        "mse = mean_squared_error(y_test, y_pred)\n",
        "r2 = r2_score(y_test, y_pred)\n",
        "\n",
        "print(f\"Mean Squared Error: {mse}\")\n",
        "print(f\"R^2 Score: {r2}\")\n",
        "\n",
        "# 시각화: 실제 값 vs 예측 값\n",
        "plt.figure(figsize=(10, 7))\n",
        "plt.scatter(y_test, y_pred, alpha=0.5)\n",
        "plt.xlabel('Actual')\n",
        "plt.ylabel('Predicted')\n",
        "plt.title('Actual vs Predicted')\n",
        "plt.show()\n",
        "\n",
        "# 중요 변수 시각화\n",
        "importances = model.feature_importances_\n",
        "indices = np.argsort(importances)[::-1]\n",
        "features = X.columns\n",
        "\n",
        "plt.figure(figsize=(12, 8))\n",
        "plt.title('Feature Importances')\n",
        "plt.bar(range(X.shape[1]), importances[indices], align='center')\n",
        "plt.xticks(range(X.shape[1]), [features[i] for i in indices], rotation=90)\n",
        "plt.tight_layout()\n",
        "plt.show()\n"
      ]
    }
  ]
}